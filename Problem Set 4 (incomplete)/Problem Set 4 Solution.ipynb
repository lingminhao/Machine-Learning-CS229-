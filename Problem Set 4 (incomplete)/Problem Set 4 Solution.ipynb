{
 "cells": [
  {
   "cell_type": "markdown",
   "id": "d7a4c17a",
   "metadata": {},
   "source": [
    "# Problem Set 3 (EM, DL & RL) Solution"
   ]
  },
  {
   "cell_type": "markdown",
   "id": "aae468b9",
   "metadata": {},
   "source": [
    "## Ling Min Hao "
   ]
  },
  {
   "cell_type": "markdown",
   "id": "7d97dee1",
   "metadata": {},
   "source": [
    "### 1. Neural Networks: MNIST image classification"
   ]
  },
  {
   "cell_type": "markdown",
   "id": "b640dea2",
   "metadata": {},
   "source": [
    "### 2. Off Policy Evaluation And Causal Inference"
   ]
  },
  {
   "cell_type": "markdown",
   "id": "0c0396d2",
   "metadata": {},
   "source": [
    "### 3. PCA\n",
    "\n",
    "First, we find what is $f_u(x)$. \n",
    "\\begin{align*}\n",
    "0 = \\frac{\\partial}{\\partial\\alpha}||x-\\alpha u||^2 \n",
    "= \\frac{\\partial}{\\partial\\alpha}\\left((x-\\alpha u)^T(x-\\alpha u)\\right) = \\frac{\\partial}{\\partial\\alpha}\\left(x^Tx-2\\alpha u^Tx + \\alpha^2u^Tu\\right) = -2u^Tx + 2\\alpha u^Tu\n",
    "\\end{align*}\n",
    "\n",
    "So, $\\alpha = u^Tx$ and $f_u(x) = (u^Tx)u$. Now, \n",
    "\n",
    "\\begin{align*}\n",
    "\\tilde{u} \n",
    "&= \\arg\\min_{u:u^Tu=1} \\sum_{i=1}^{m}||x^{(i)}-f_u(x^{(i)})||_2^2\\\\\n",
    "&= \\arg\\min_{u:u^Tu=1} \\sum_{i=1}^{m}||x^{(i)}-(u^Tx^{(i)})u||_2^2\\\\\n",
    "&= \\arg\\min_{u:u^Tu=1} \\sum_{i=1}^{m}||x^{(i)}-(u^Tx^{(i)})u||_2^2\\\\\n",
    "&= \\arg\\min_{u:u^Tu=1} \\sum_{i=1}^{m}\\left(x^{(i)}-(u^Tx^{(i)})u\\right)^T\\left(x^{(i)}-(u^Tx^{(i)})u\\right)\\\\\n",
    "&= \\arg\\min_{u:u^Tu=1} \\sum_{i=1}^{m}x^{(i)^T}x^{(i)} - u^Tx^{(i)}x^{(i)^T}u\\\\\n",
    "&= -\\arg\\min_{u:u^Tu=1} \\sum_{i=1}^{m} u^Tx^{(i)}x^{(i)^T}u\\\\\n",
    "&= \\arg\\max_{u:u^Tu=1}u^T\\left(\\frac{1}{m}\\sum_{i=1}^mx^{(i)}x^{(i)^T}\\right)u\n",
    "\\end{align*}\n",
    "\n",
    "as desired. "
   ]
  },
  {
   "cell_type": "markdown",
   "id": "1d913b2a",
   "metadata": {},
   "source": [
    "### 4. Independent components analysis "
   ]
  },
  {
   "cell_type": "markdown",
   "id": "560b61d5",
   "metadata": {},
   "source": [
    "### 5. Markov decision processes"
   ]
  },
  {
   "cell_type": "markdown",
   "id": "57b5d90a",
   "metadata": {},
   "source": [
    "### 6. Reinforcement Learning: The inverted pendulum"
   ]
  }
 ],
 "metadata": {
  "kernelspec": {
   "display_name": "Python 3",
   "language": "python",
   "name": "python3"
  },
  "language_info": {
   "codemirror_mode": {
    "name": "ipython",
    "version": 3
   },
   "file_extension": ".py",
   "mimetype": "text/x-python",
   "name": "python",
   "nbconvert_exporter": "python",
   "pygments_lexer": "ipython3",
   "version": "3.8.8"
  }
 },
 "nbformat": 4,
 "nbformat_minor": 5
}
