{
 "cells": [
  {
   "cell_type": "markdown",
   "id": "fe8ff6cd",
   "metadata": {},
   "source": [
    "# Problem Set 2 (Supervised Learning II) Solution"
   ]
  },
  {
   "cell_type": "markdown",
   "id": "f5a406d7",
   "metadata": {},
   "source": [
    "## Ling Min Hao "
   ]
  },
  {
   "cell_type": "markdown",
   "id": "b7690e48",
   "metadata": {},
   "source": [
    "### 1. Logistic Regression: Training stability"
   ]
  },
  {
   "cell_type": "markdown",
   "id": "d9ee8ab6",
   "metadata": {},
   "source": [
    "(a) The theta value converges extremely slowly on dataset B whereas it converges pretty fast on dataset A. "
   ]
  },
  {
   "cell_type": "markdown",
   "id": "3cdbda82",
   "metadata": {},
   "source": [
    "(b) <font color='red'>I do not know how to solve this</font>"
   ]
  },
  {
   "cell_type": "markdown",
   "id": "05cade4b",
   "metadata": {},
   "source": [
    "(c) <font color='red'>I do not know how to solve this</font>"
   ]
  },
  {
   "cell_type": "markdown",
   "id": "85d08ac7",
   "metadata": {},
   "source": [
    "(d) <font color='red'>I do not know how to solve this</font>"
   ]
  },
  {
   "cell_type": "markdown",
   "id": "7704f70b",
   "metadata": {},
   "source": [
    "### 2. Model Calibration"
   ]
  },
  {
   "cell_type": "markdown",
   "id": "923a8dcb",
   "metadata": {},
   "source": [
    "(a) By equating the gradient of loss function of logistic regression $\\nabla_\\theta l(\\theta) = 0$, we have \n",
    "\n",
    "\\begin{equation*}\n",
    "\\sum_{i=1}^m(y^{(i)}-h_\\theta(x^{(i)})x^{(i)} =0 \\\\ \n",
    "\\sum_{i=1}^m y^{(i)}x^{(i)} = \\sum_{i=1}^m h_\\theta(x^{(i)})x^{(i)} = \\sum_{i=1}^m p(y^{(i)}|x^{(i)};\\theta)x^{(i)}\n",
    "\\end{equation*}\n",
    "\n",
    "By letting $j=0$ ($x^{(i)} = 1$ and $\\theta = \\theta_0$ for all $i$), we have \n",
    "\n",
    "\\begin{equation*}\n",
    "\\sum_{i\\in(0,1)}\\mathbb{1}\\{y^{(i)} = 1\\}= \\sum_{i\\in(0,1)} P(y^{(i)} = 1|x^{(i)};\\theta)\\\\\n",
    "\\frac{\\sum_{i\\in(0,1)}\\mathbb{1}\\{y^{(i)} = 1\\}}{|\\{i\\in I_{0,1}\\}|}= \\frac{\\sum_{i\\in(0,1)} P(y^{(i)} = 1|x^{(i)};\\theta)}{|\\{i\\in I_{0,1}\\}|}\\\\\n",
    "\\end{equation*}"
   ]
  },
  {
   "cell_type": "markdown",
   "id": "d3554491",
   "metadata": {},
   "source": [
    "(b) Perfect accuracy means for any output $h_\\theta(x^{(i)})\\geq 0.5$, $y^{(i)} = 1$. \n",
    "\n",
    "Let $a = 0.5$ and $b = 0.6$. Then \n",
    "\n",
    "\\begin{equation*}\n",
    "\\frac{\\sum_{i\\in(0.5,0.6)}\\mathbb{1}\\{y^{(i)} = 1\\}}{|\\{i\\in I_{0.5,0.6}\\}|}= \\frac{\\sum_{i\\in(0.5,0.6)} P(y^{(i)} = 1|x^{(i)};\\theta)}{|\\{i\\in I_{0.5,0.6}\\}|}<0.6\\neq 1\\\\\n",
    "\\end{equation*}\n",
    "\n",
    "is a counterexample. \n"
   ]
  },
  {
   "cell_type": "markdown",
   "id": "edff5e25",
   "metadata": {},
   "source": [
    "(c) By adding $\\mathcal{L}_2$ regularization, the equation in (a) becomes \n",
    "\n",
    "\\begin{equation*}\n",
    "\\sum_{i=1}^m(y^{(i)}-h_\\theta(x^{(i)})x^{(i)} + 2\\lambda\\theta =0 \\\\ \n",
    "\\sum_{i=1}^m y^{(i)}x^{(i)} + 2\\lambda\\theta = \\sum_{i=1}^m h_\\theta(x^{(i)})x^{(i)} = \\sum_{i=1}^m p(y^{(i)}|x^{(i)};\\theta)x^{(i)}\n",
    "\\end{equation*}\n",
    "\n",
    "By letting $j=0$ ($x^{(i)} = 1$ and $\\theta = \\theta_0$ for all $i$), we have \n",
    "\n",
    "\\begin{equation*}\n",
    "\\sum_{i\\in(0,1)}\\mathbb{1}\\{y^{(i)} = 1\\} + 2\\lambda\\theta_0= \\sum_{i\\in(0,1)} P(y^{(i)} = 1|x^{(i)};\\theta)\\\\\n",
    "\\frac{\\sum_{i\\in(0,1)}\\mathbb{1}\\{y^{(i)} = 1\\} + 2\\lambda\\theta_0}{|\\{i\\in I_{0,1}\\}|}= \\frac{\\sum_{i\\in(0,1)} P(y^{(i)} = 1|x^{(i)};\\theta)}{|\\{i\\in I_{0,1}\\}|}\\\\\n",
    "\\end{equation*}\n",
    "\n",
    "Thus, the fraction of positives in set of examples that gives $h_\\theta(x^{(i)})\\in(0,1)$ differs from the average of the model outputs for those examples by a constant. "
   ]
  },
  {
   "cell_type": "markdown",
   "id": "ec68ba8a",
   "metadata": {},
   "source": [
    "### 3. Bayesian Interpretation of Regularization"
   ]
  },
  {
   "cell_type": "markdown",
   "id": "5a65e1d3",
   "metadata": {},
   "source": [
    "(a) \n",
    "\\begin{align*}\n",
    "\\theta_{MAP} \n",
    "&= \\text{argmax}_\\theta p(\\theta|x,y) \\\\\n",
    "&= \\text{argmax}_\\theta\\frac{p(y|x,\\theta)p(\\theta|x)}{p(y|x)}\\\\\n",
    "&= \\text{argmax}_\\theta p(y|x,\\theta)p(\\theta)\\\\\n",
    "\\end{align*}"
   ]
  },
  {
   "cell_type": "markdown",
   "id": "b6bcfadd",
   "metadata": {},
   "source": [
    "(b) \n",
    "With $\\theta\\sim\\mathcal{N}(0,\\eta^2I)$, we have \n",
    "\n",
    "\\begin{align*}\n",
    "\\theta_{MAP} \n",
    "&= \\text{argmax}_\\theta p(y|x,\\theta)p(\\theta) \\\\ \n",
    "&= \\text{argmax}_\\theta p(y|x, \\theta)\\frac{1}{(2\\pi)^{\\frac{n}{2}}\\eta^n}\\exp(-\\frac{1}{2\\eta^2}\\|\\theta\\|_2^2) \\\\ \n",
    "&= \\text{argmax}_\\theta\\log p(y|x, \\theta)\\frac{1}{(2\\pi)^{\\frac{n}{2}}\\eta^n}\\exp(-\\frac{1}{2\\eta^2}\\|\\theta\\|_2^2)\\\\\n",
    "&= \\text{argmax}_\\theta\\log p(y|x, \\theta)-\\frac{1}{2\\eta^2}\\|\\theta\\|_2^2 \\\\ \n",
    "&= \\text{argmin}_\\theta-\\log p(y|x, \\theta)+\\frac{1}{2\\eta^2}\\|\\theta\\|_2^2 \\\\ \n",
    "\\end{align*}\n",
    "\n",
    "Thus, $\\lambda = \\frac{1}{2\\eta^2}$"
   ]
  },
  {
   "cell_type": "markdown",
   "id": "f57aa850",
   "metadata": {},
   "source": [
    "(c) Since $\\epsilon\\sim\\mathcal{N}(0,\\sigma^2)$, we have $y\\sim\\mathcal{N}(\\theta^Tx,\\sigma^2)$. Therefore, using (b) with $\\theta\\sim\\mathcal{N}(0,\\eta^2I)$, we have \n",
    "\n",
    "\\begin{align*}\n",
    "\\theta_{MAP} \n",
    "&= \\text{argmin}_\\theta -\\log\\prod_{i=1}^m \\exp\\left(-\\frac{(y^{(i)}-\\theta^T x^{(i)})^2}{2\\sigma^2}\\right) + \\frac{1}{2\\eta^2}\\|\\theta\\|_2^2 \\\\ \n",
    "&= \\text{argmin}_\\theta -\\sum_{i=1}^m\\log\\exp\\left(-\\frac{(y^{(i)}-\\theta^T x^{(i)})^2}{2\\sigma^2}\\right) + \\frac{1}{2\\eta^2}\\|\\theta\\|_2^2 \\\\\n",
    "&= \\text{argmin}_\\theta \\sum_{i=1}^m\\frac{(y^{(i)}-\\theta^T x^{(i)})^2}{2\\sigma^2} + \\frac{1}{2\\eta^2}\\|\\theta\\|_2^2 \\\\\n",
    "&= \\text{argmin}_\\theta\\frac{1}{2\\sigma^2}\\|X\\theta-y\\|_2^2 + \\frac{1}{2\\eta^2}\\|\\theta\\|_2^2\\\\\n",
    "\\end{align*}\n",
    "\n",
    "So, $\\theta_{MAP}$ is $\\mathcal{L}_2$ regularized cost function $J(\\theta)$. The closed form equation is shown by equating $\\nabla_\\theta J(\\theta) = 0$. \n",
    "\n",
    "\\begin{equation*}\n",
    "\\nabla_\\theta\\left(\\frac{1}{2\\sigma^2}\\|X\\theta-y\\|_2^2 + \\frac{1}{2\\eta^2}\\|\\theta\\|_2^2\\right) = 0 \\\\ \n",
    "\\frac{1}{\\sigma^2}(X^X\\theta-X^Ty) + \\frac{\\theta}{\\eta^2} = 0 \\\\ \n",
    "(X^TX + \\frac{\\eta^2}{\\sigma^2})\\theta = X^Ty \\\\ \n",
    "\\theta = (X^TX + \\frac{\\eta^2}{\\sigma^2}I)^{-1}X^Ty\n",
    "\\end{equation*}"
   ]
  },
  {
   "cell_type": "markdown",
   "id": "05a78eda",
   "metadata": {},
   "source": [
    "(d) With $\\theta\\sim\\mathcal{L}(0,bI)$, we have \n",
    "\n",
    "\\begin{align*}\n",
    "\\theta_{MAP} \n",
    "&= \\text{argmax}_\\theta p(y|x,\\theta)p(\\theta) \\\\ \n",
    "&= \\text{argmax}_\\theta p(y|x,\\theta)\\prod_{i=0}^np(\\theta_i)\\\\ \n",
    "&= \\text{argmax}_\\theta p(y|x, \\theta)\\prod_{i=1}^n\\frac{1}{2b}\\exp(-\\frac{|\\theta_i|}{b}) \\\\ \n",
    "&= \\text{argmax}_\\theta\\log p(y|x, \\theta)\\frac{1}{(2b)^{n+1}}\\exp(-\\frac{\\|\\theta\\|_1}{b})\\\\\n",
    "&= \\text{argmax}_\\theta\\log p(y|x, \\theta)-\\frac{\\|\\theta\\|_1}{b} \\\\ \n",
    "&= \\text{argmin}_\\theta\\frac{1}{2\\sigma^2}\\|X\\theta-y\\|_2^2+\\frac{1}{b}\\|\\theta\\|_1 \\\\ \n",
    "&= \\text{argmin}_\\theta\\|X\\theta-y\\|_2^2+\\frac{2\\sigma^2}{b}\\|\\theta\\|_1\n",
    "\\end{align*}\n",
    "\n",
    "Thus, $\\gamma = \\frac{2\\sigma^2}{b}$"
   ]
  },
  {
   "cell_type": "markdown",
   "id": "f49a66f2",
   "metadata": {},
   "source": [
    "### 4. Constructing kernels"
   ]
  },
  {
   "cell_type": "markdown",
   "id": "8d452105",
   "metadata": {},
   "source": [
    "(a) Yes\n",
    "\\begin{equation*}\n",
    "K^T = (K_1+K_2)^T = K_1^T + K_2^T = K_1 + K_2 = K \n",
    "\\end{equation*}\n",
    "\n",
    "\\begin{equation*}\n",
    "z^TKz = z^T(K_1 + K_2)z = z^TK_1z + z^TK_2z \\geq 0 \n",
    "\\end{equation*}"
   ]
  },
  {
   "cell_type": "markdown",
   "id": "f54ae4ef",
   "metadata": {},
   "source": [
    "(b) No. Let $K_1 = \\begin{bmatrix} 2 & 0 \\\\ 0 & 1 \\end{bmatrix}$ and $K_2 = \\begin{bmatrix} 1 & 1 \\\\ 1 & 1\\end{bmatrix}$. When $z = \\begin{bmatrix} 1 \\\\ 0 \\end{bmatrix} $, we have $z^TK_1z = 2 > 1 = z^TK_2z$, which implies $z^TKz<0$ (not a PSD)"
   ]
  },
  {
   "cell_type": "markdown",
   "id": "e3258a21",
   "metadata": {},
   "source": [
    "(c) Yes\n",
    "\n",
    "\\begin{equation*}\n",
    "K^T = (aK_1)^T = aK_1^T = aK_1 = K \n",
    "\\end{equation*}\n",
    "\n",
    "\\begin{equation*} \n",
    "z^TKz = z^TaK_1z = a(z^TK_1z) \\geq 0 \n",
    "\\end{equation*}"
   ]
  },
  {
   "cell_type": "markdown",
   "id": "f6f90944",
   "metadata": {},
   "source": [
    "(d) No\n",
    "\\begin{equation*} \n",
    "z^TKz = z^T(-aK_1)z = -a(z^TK_1z) <= 0 \n",
    "\\end{equation*}"
   ]
  },
  {
   "cell_type": "markdown",
   "id": "ff0300a4",
   "metadata": {},
   "source": [
    "(e)\n",
    "\\begin{align*}\n",
    "K_1(x,z) = \\phi(x)^T\\phi(z) = \\sum_k\\phi_k(x)\\phi_k(z)\\\\\n",
    "K_2(x,z) = \\psi(x)^T\\psi(z) = \\sum_m\\psi_m(x)\\psi_m(z)\n",
    "\\end{align*}\n",
    "\n",
    "Then \n",
    "\n",
    "\\begin{align*}\n",
    "K_1(x,z) \n",
    "&= \\left(\\sum_k\\phi_k(x)\\phi_k(z))\\right)\\left(\\sum_m\\psi_m(x)\\psi_m(z)\\right)\\\\\n",
    "&= \\sum_i c_i(x)c_i(z)\\\\\n",
    "&= c(x)^Tc(z)\n",
    "\\end{align*}\n",
    "\n",
    "which is a kernel. "
   ]
  },
  {
   "cell_type": "markdown",
   "id": "8bc19d41",
   "metadata": {},
   "source": [
    "(f)\n",
    "\\begin{equation*}\n",
    "K(x,z) = f(x)f(z) = f(z)f(x) = K(z,x) \n",
    "\\end{equation*}\n",
    "\n",
    "\\begin{align*}\n",
    "z^TKz \n",
    "&= \\sum_i\\sum_jz_iK_{ij}z_j \\\\\n",
    "&= \\sum_i\\sum_jz_if(x^{(i)})f(x^{(j)})z_j\\\\\n",
    "&= \\sum_i\\sum_j(z_if(x^{(i)}))(z_jf(x^{(j)}))\\\\\n",
    "&= \\left(\\sum_iz_if(x^{(i)})\\right)^2 \\geq 0\n",
    "\\end{align*}"
   ]
  },
  {
   "cell_type": "markdown",
   "id": "b1a08061",
   "metadata": {},
   "source": [
    "(g) Since $K_3$ is a kernel, it can be expressed as $K_3(x,z) = \\psi(x)^T\\psi(x)$. Then \n",
    "\n",
    "\\begin{align*}\n",
    "K_3(\\phi(x),\\phi(z)) = (\\psi\\circ\\phi(x))^T(\\psi\\circ\\phi(z)) = (\\psi\\circ\\phi(z))^T(\\psi\\circ\\phi(x)) = K_3(\\phi(z),\\phi(x))\n",
    "\\end{align*}\n",
    "\n",
    "\\begin{align*}\n",
    "z^TK_3z \n",
    "&= \\sum_i\\sum_j z_iK_3(\\phi(x^{(i)}),\\phi(x^{(j)}))z_j \\\\ \n",
    "&= \\sum_j\\sum_j z_i\\left(\\psi(\\phi(x^{(i)})\\psi(\\phi(x^{(j)})\\right)z_j \\\\ \n",
    "&= \\sum_i\\sum_j\\sum_kz_i(\\psi\\circ\\phi)_k(x^{(i)})(\\psi\\circ\\phi)_k(x^{(j)})z_j \\\\\n",
    "&= \\sum_k\\left(\\sum_iz_i(\\psi\\circ\\phi)_k(x^{(i)})\\right)^2 \\geq 0\n",
    "\\end{align*}\n"
   ]
  },
  {
   "cell_type": "markdown",
   "id": "7fb96f1c",
   "metadata": {},
   "source": [
    "(h) Combining (a), (c) and (e), we can see $K(x,z)$ is symmetric and PSD. "
   ]
  },
  {
   "cell_type": "markdown",
   "id": "f0bff35b",
   "metadata": {},
   "source": [
    "### 5. Kernelizing the Perceptron"
   ]
  },
  {
   "cell_type": "markdown",
   "id": "868f306a",
   "metadata": {},
   "source": [
    "(a) \n",
    "\n",
    "(i)\n",
    "\\begin{align*}\n",
    "\\theta^{(i)} &= \\sum_{j=1}^i\\beta_j\\phi(x^{(j)})\\\\\n",
    "\\theta^{(0)} &= 0\n",
    "\\end{align*}"
   ]
  },
  {
   "cell_type": "markdown",
   "id": "f91f3183",
   "metadata": {},
   "source": [
    "(ii)\n",
    "\\begin{align*}\n",
    "h_{\\theta^{(i)}}(x^{(i+1)}) \n",
    "&= g(\\theta^{(i)^T}\\phi(x^{(i+1)})) \\\\\n",
    "&= g\\left(\\sum_{j=1}^i\\beta_j\\phi(x^{(j)})^T\\phi(x^{(i+1)})\\right)\\\\\n",
    "&= g\\left(\\sum_{j=1}^i\\beta_j K(x^{(j)},x^{(i+1)})\\right)\n",
    "\\end{align*}"
   ]
  },
  {
   "cell_type": "markdown",
   "id": "790a4c7b",
   "metadata": {},
   "source": [
    "(iii)\n",
    "\\begin{align*}\n",
    "\\theta^{(i+1)} = \\sum_{j=1}^{i}\\beta_j\\phi(x^{(j)}) + \\alpha\\left(y^{(i+1)} - g\\left(\\sum_{j=1}^i\\beta_j K(x^{(j)},x^{(i+1)})\\right)\\right)\\phi(x^{(i+1)})\n",
    "\\end{align*}\n",
    "\n",
    "Thus,   \n",
    "\\begin{align*}\n",
    "\\beta_{i+1} = \\alpha\\left(y^{(i+1)} - g\\left(\\sum_{j=1}^i\\beta_j K(x^{(j)},x^{(i+1)})\\right)\\right)\n",
    "\\end{align*}\n",
    "\n",
    "is the new update rule. "
   ]
  },
  {
   "cell_type": "markdown",
   "id": "573570e7",
   "metadata": {},
   "source": [
    "(b)"
   ]
  },
  {
   "cell_type": "code",
   "execution_count": 1,
   "id": "8c69d1e9",
   "metadata": {},
   "outputs": [],
   "source": [
    "import math\n",
    "\n",
    "import matplotlib.pyplot as plt\n",
    "import numpy as np\n",
    "import pandas as pd\n",
    "\n",
    "import util\n",
    "\n",
    "\n",
    "def initial_state():\n",
    "    \"\"\"Return the initial state for the perceptron.\n",
    "\n",
    "    This function computes and then returns the initial state of the perceptron.\n",
    "    Feel free to use any data type (dicts, lists, tuples, or custom classes) to\n",
    "    contain the state of the perceptron.\n",
    "\n",
    "    \"\"\"\n",
    "\n",
    "    # *** START CODE HERE ***\n",
    "    return []\n",
    "    # *** END CODE HERE ***\n",
    "\n",
    "\n",
    "def predict(state, kernel, x_i):\n",
    "    \"\"\"Peform a prediction on a given instance x_i given the current state\n",
    "    and the kernel.\n",
    "\n",
    "    Args:\n",
    "        state: The state returned from initial_state()\n",
    "        kernel: A binary function that takes two vectors as input and returns\n",
    "            the result of a kernel\n",
    "        x_i: A vector containing the features for a single instance\n",
    "    \n",
    "    Returns:\n",
    "        Returns the prediction (i.e 0 or 1)\n",
    "    \"\"\"\n",
    "    # *** START CODE HERE ***\n",
    "    sum = 0\n",
    "    for i in range(len(state)): \n",
    "        sum = sum + state[i][0] * kernel(state[i][1], x_i)\n",
    "        \n",
    "    return sign(sum)\n",
    "\n",
    "    # *** END CODE HERE ***\n",
    "\n",
    "\n",
    "def update_state(state, kernel, learning_rate, x_i, y_i):\n",
    "    \"\"\"Updates the state of the perceptron.\n",
    "\n",
    "    Args:\n",
    "        state: The state returned from initial_state()\n",
    "        kernel: A binary function that takes two vectors as input and returns the result of a kernel\n",
    "        learning_rate: The learning rate for the update\n",
    "        x_i: A vector containing the features for a single instance\n",
    "        y_i: A 0 or 1 indicating the label for a single instance\n",
    "    \"\"\"\n",
    "    # *** START CODE HERE ***\n",
    "    \n",
    "    \n",
    "    sum = 0\n",
    "    if len(state) != 0: \n",
    "        for i in range(len(state)): \n",
    "            sum = sum + state[i][0] * kernel(state[i][1],x_i)\n",
    "        \n",
    "    beta_i = learning_rate * (y_i - sign(sum) )\n",
    "    \n",
    "    state.append((beta_i,x_i))\n",
    "    # *** END CODE HERE ***\n",
    "\n",
    "\n",
    "def sign(a):\n",
    "    \"\"\"Gets the sign of a scalar input.\"\"\"\n",
    "    if a >= 0:\n",
    "        return 1\n",
    "    else:\n",
    "        return 0\n",
    "\n",
    "\n",
    "def dot_kernel(a, b):\n",
    "    \"\"\"An implementation of a dot product kernel.\n",
    "\n",
    "    Args:\n",
    "        a: A vector\n",
    "        b: A vector\n",
    "    \"\"\"\n",
    "    return np.dot(a, b)\n",
    "\n",
    "\n",
    "def rbf_kernel(a, b, sigma=1):\n",
    "    \"\"\"An implementation of the radial basis function kernel.\n",
    "\n",
    "    Args:\n",
    "        a: A vector\n",
    "        b: A vector\n",
    "        sigma: The radius of the kernel\n",
    "    \"\"\"\n",
    "    distance = (a - b).dot(a - b)\n",
    "    scaled_distance = -distance / (2 * (sigma) ** 2)\n",
    "    return math.exp(scaled_distance)\n",
    "\n",
    "\n",
    "def train_perceptron(kernel_name, kernel, learning_rate):\n",
    "    \"\"\"Train a perceptron with the given kernel.\n",
    "\n",
    "    This function trains a perceptron with a given kernel and then\n",
    "    uses that perceptron to make predictions.\n",
    "    The output predictions are saved to src/output/p05_{kernel_name}_predictions.txt.\n",
    "    The output plots are saved to src/output_{kernel_name}_output.pdf.\n",
    "\n",
    "    Args:\n",
    "        kernel_name: The name of the kernel.\n",
    "        kernel: The kernel function.\n",
    "        learning_rate: The learning rate for training.\n",
    "    \"\"\"\n",
    "    train_x, train_y = util.load_csv('data/ds5_train.csv')\n",
    "\n",
    "    state = initial_state()\n",
    "\n",
    "    for x_i, y_i in zip(train_x, train_y):\n",
    "        update_state(state, kernel, learning_rate, x_i, y_i)\n",
    "\n",
    "    test_x, test_y = util.load_csv('data/ds5_test.csv')\n",
    "\n",
    "    plt.figure(figsize=(12, 8))\n",
    "    util.plot_contour(lambda a: predict(state, kernel, a))\n",
    "    util.plot_points(test_x, test_y)\n",
    "    plt.show()\n",
    "\n",
    "    predict_y = [predict(state, kernel, test_x[i, :]) for i in range(test_y.shape[0])]\n",
    "    \n",
    "    # define data\n",
    "    data = np.column_stack((test_x,test_y,predict_y))\n",
    "    df = pd.DataFrame(data, columns=['x_0','x_1','y','y_pred'])\n",
    "    \n",
    "    # save to csv file\n",
    "    df.to_csv('data/ds5_pred.csv', index=False, header=True, sep=',')"
   ]
  },
  {
   "cell_type": "code",
   "execution_count": 2,
   "id": "5ef1845f",
   "metadata": {},
   "outputs": [
    {
     "data": {
      "image/png": "[encoded data removed]",
      "text/plain": [
       "<Figure size 864x576 with 1 Axes>"
      ]
     },
     "metadata": {
      "needs_background": "light"
     },
     "output_type": "display_data"
    },
    {
     "data": {
      "image/png": "[encoded data removed]",
      "text/plain": [
       "<Figure size 864x576 with 1 Axes>"
      ]
     },
     "metadata": {
      "needs_background": "light"
     },
     "output_type": "display_data"
    },
    {
     "name": "stdout",
     "output_type": "stream",
     "text": [
      "Dot product kernel perform badly because the dataset is not linearly seperable.\n"
     ]
    }
   ],
   "source": [
    "train_perceptron('dot', dot_kernel, 0.5)\n",
    "train_perceptron('rbf', rbf_kernel, 0.5)\n",
    "\n",
    "print(\"Dot product kernel perform badly because the dataset is not linearly seperable.\")"
   ]
  },
  {
   "cell_type": "markdown",
   "id": "d2ec4333",
   "metadata": {},
   "source": [
    "### 6. Spam classification"
   ]
  },
  {
   "cell_type": "code",
   "execution_count": 3,
   "id": "3c06ec49",
   "metadata": {},
   "outputs": [],
   "source": [
    "import collections\n",
    "\n",
    "import numpy as np\n",
    "\n",
    "import util\n",
    "import svm\n",
    "\n",
    "\n",
    "def get_words(message):\n",
    "    \"\"\"Get the normalized list of words from a message string.\n",
    "\n",
    "    This function should split a message into words, normalize them, and return\n",
    "    the resulting list. For splitting, you should split on spaces. For normalization,\n",
    "    you should convert everything to lowercase.\n",
    "\n",
    "    Args:\n",
    "        message: A string containing an SMS message\n",
    "\n",
    "    Returns:\n",
    "       The list of normalized words from the message.\n",
    "    \"\"\"\n",
    "\n",
    "    # *** START CODE HERE ***\n",
    "    message = message.lower()\n",
    "    words = message.split(\" \")\n",
    "    \n",
    "    return words\n",
    "    # *** END CODE HERE ***\n",
    "\n",
    "def create_dictionary(messages):\n",
    "    \"\"\"Create a dictionary mapping words to integer indices.\n",
    "\n",
    "    This function should create a dictionary of word to indices using the provided\n",
    "    training messages. Use get_words to process each message. \n",
    "\n",
    "    Rare words are often not useful for modeling. Please only add words to the dictionary\n",
    "    if they occur in at least five messages.\n",
    "\n",
    "    Args:\n",
    "        messages: A list of strings containing SMS messages\n",
    "\n",
    "    Returns:\n",
    "        A python dict mapping words to integers.\n",
    "    \"\"\"\n",
    "\n",
    "    # *** START CODE HERE ***\n",
    "    vocabulary = []\n",
    "    important_vocabulary = []\n",
    "    \n",
    "    # Get list of vocabulary\n",
    "    for message in messages: \n",
    "        words = get_words(message)\n",
    "        for word in words: \n",
    "            if word not in vocabulary: \n",
    "                vocabulary.append(word)\n",
    "                \n",
    "    # Count occurence of each vocab in all messages.          \n",
    "    count = [0]*len(vocabulary)\n",
    "    for i in range(len(vocabulary)): \n",
    "        for message in messages: \n",
    "            words = get_words(message)\n",
    "            if vocabulary[i] in words: \n",
    "                count[i] += 1\n",
    "                \n",
    "    # Remove vocabulary with less than 5 occurence\n",
    "    for i in range(len(count)): \n",
    "        if count[i] >= 5:\n",
    "            important_vocabulary.append(vocabulary[i])\n",
    "    \n",
    "    # Build the dictionary\n",
    "    dict = {}\n",
    "    for i in range(len(important_vocabulary)): \n",
    "        dict[vocabulary[i]] = i\n",
    "    \n",
    "    return dict\n",
    "    \n",
    "    # *** END CODE HERE ***\n",
    "\n",
    "\n",
    "def transform_text(messages, word_dictionary):\n",
    "    \"\"\"Transform a list of text messages into a numpy array for further processing.\n",
    "\n",
    "    This function should create a numpy array that contains the number of times each word\n",
    "    appears in each message. Each row in the resulting array should correspond to each \n",
    "    message and each column should correspond to a word.\n",
    "\n",
    "    Use the provided word dictionary to map words to column indices. Ignore words that \n",
    "    are not present in the dictionary. Use get_words to get the words for a message.\n",
    "\n",
    "    Args:\n",
    "        messages: A list of strings where each string is an SMS message.\n",
    "        word_dictionary: A python dict mapping words to integers.\n",
    "\n",
    "    Returns:\n",
    "        A numpy array marking the words present in each message.\n",
    "    \"\"\"\n",
    "    # *** START CODE HERE ***\n",
    "    \n",
    "    train_matrix = []\n",
    "    lst = list(word_dictionary)\n",
    "    for message in messages: \n",
    "        array = [0]*len(lst)\n",
    "        words = get_words(message)\n",
    "        for word in words: \n",
    "            if word in lst: \n",
    "                array[lst.index(word)] += 1\n",
    "        train_matrix.append(array)\n",
    "    train_matrix = np.array(train_matrix)\n",
    "    \n",
    "    return train_matrix\n",
    "    # *** END CODE HERE ***\n",
    "\n",
    "\n",
    "def fit_naive_bayes_model(matrix, labels):\n",
    "    \"\"\"Fit a naive bayes model.\n",
    "\n",
    "    This function should fit a Naive Bayes model given a training matrix and labels.\n",
    "\n",
    "    The function should return the state of that model.\n",
    "\n",
    "    Feel free to use whatever datatype you wish for the state of the model.\n",
    "\n",
    "    Args:\n",
    "        matrix: A numpy array containing word counts for the training data\n",
    "        labels: The binary (0 or 1) labels for that training data\n",
    "\n",
    "    Returns: The trained model\n",
    "    \"\"\"\n",
    "\n",
    "    # *** START CODE HERE ***\n",
    "    m,n = matrix.shape\n",
    "    \n",
    "    phi_y = matrix[labels == 1].shape[0] / m \n",
    "    phi_y_0 = []\n",
    "    phi_y_1 = []\n",
    "    \n",
    "    for i in range(n): \n",
    "        phi_y_0.append((matrix[labels == 0][:,i].sum() + 1) / (matrix[labels == 0].sum() + n))\n",
    "        phi_y_1.append((matrix[labels == 1][:,i].sum() + 1) / (matrix[labels == 1].sum() + n))\n",
    "    \n",
    "    phi_y_0 = np.array(phi_y_0)\n",
    "    phi_y_1 = np.array(phi_y_1)\n",
    "    \n",
    "    return phi_y, phi_y_0, phi_y_1\n",
    "    # *** END CODE HERE ***\n",
    "\n",
    "\n",
    "def predict_from_naive_bayes_model(model, matrix):\n",
    "    \"\"\"Use a Naive Bayes model to compute predictions for a target matrix.\n",
    "\n",
    "    This function should be able to predict on the models that fit_naive_bayes_model\n",
    "    outputs.\n",
    "\n",
    "    Args:\n",
    "        model: A trained model from fit_naive_bayes_model\n",
    "        matrix: A numpy array containing word counts\n",
    "\n",
    "    Returns: A numpy array containg the predictions from the model\n",
    "    \"\"\"\n",
    "    # *** START CODE HERE ***\n",
    "    return np.dot(matrix,np.log(model[2] * model[0])) - np.dot(matrix, np.log(model[1] * (1-model[0]))) >= 0.1\n",
    "    # *** END CODE HERE ***\n",
    "\n",
    "\n",
    "def get_top_five_naive_bayes_words(model, dictionary):\n",
    "    \"\"\"Compute the top five words that are most indicative of the spam (i.e positive) class.\n",
    "\n",
    "    Ues the metric given in 6c as a measure of how indicative a word is.\n",
    "    Return the words in sorted form, with the most indicative word first.\n",
    "\n",
    "    Args:\n",
    "        model: The Naive Bayes model returned from fit_naive_bayes_model\n",
    "        dictionary: A mapping of word to integer ids\n",
    "\n",
    "    Returns: The top five most indicative words in sorted order with the most indicative first\n",
    "    \"\"\"\n",
    "    # *** START CODE HERE ***\n",
    "    token = np.log(model[2]) - np.log(model[1])\n",
    "    lst = list(dictionary)\n",
    "    ranked_indices = np.argsort(-token)\n",
    "    top5_ranked_indices = ranked_indices[0:5]\n",
    "    \n",
    "    top5_ranked_words = []\n",
    "    for index in top5_ranked_indices: \n",
    "        top5_ranked_words.append(lst[index])\n",
    "    \n",
    "    return top5_ranked_words\n",
    "    # *** END CODE HERE ***\n",
    "\n",
    "\n",
    "def compute_best_svm_radius(train_matrix, train_labels, val_matrix, val_labels, radius_to_consider):\n",
    "    \"\"\"Compute the optimal SVM radius using the provided training and evaluation datasets.\n",
    "\n",
    "    You should only consider radius values within the radius_to_consider list.\n",
    "    You should use accuracy as a metric for comparing the different radius values.\n",
    "\n",
    "    Args:\n",
    "        train_matrix: The word counts for the training data\n",
    "        train_labels: The spma or not spam labels for the training data\n",
    "        val_matrix: The word counts for the validation data\n",
    "        val_labels: The spam or not spam labels for the validation data\n",
    "        radius_to_consider: The radius values to consider\n",
    "    \n",
    "    Returns:\n",
    "        The best radius which maximizes SVM accuracy.\n",
    "    \"\"\"\n",
    "    # *** START CODE HERE ***\n",
    "    accuracy_with_radius = []\n",
    "    for radius in radius_to_consider: \n",
    "        accuracy = np.mean(svm.train_and_predict_svm(train_matrix, train_labels, val_matrix, radius) == val_labels)\n",
    "        accuracy_with_radius.append(accuracy)\n",
    "    \n",
    "    return radius_to_consider[accuracy_with_radius.index(max(accuracy_with_radius))]\n",
    "    # *** END CODE HERE ***"
   ]
  },
  {
   "cell_type": "markdown",
   "id": "f4df8788",
   "metadata": {},
   "source": [
    "(a) "
   ]
  },
  {
   "cell_type": "code",
   "execution_count": 4,
   "id": "ce398501",
   "metadata": {},
   "outputs": [],
   "source": [
    "train_messages, train_labels = util.load_spam_dataset('data/ds6_train.tsv')\n",
    "val_messages, val_labels = util.load_spam_dataset('data/ds6_val.tsv')\n",
    "test_messages, test_labels = util.load_spam_dataset('data/ds6_test.tsv')\n",
    "\n",
    "dictionary = create_dictionary(train_messages)\n",
    "util.write_json('output/p06_dictionary', dictionary)\n",
    "\n",
    "train_matrix = transform_text(train_messages, dictionary)\n",
    "np.savetxt('output/p06_sample_train_matrix', train_matrix[:100,:])\n",
    "\n",
    "val_matrix = transform_text(val_messages, dictionary)\n",
    "test_matrix = transform_text(test_messages, dictionary)"
   ]
  },
  {
   "cell_type": "markdown",
   "id": "0ef27615",
   "metadata": {},
   "source": [
    "(b) \n",
    "\n",
    "\\begin{align*} \n",
    "\\log\\frac{P(y=1|x)}{P(y=0|x)}\n",
    "&= \\log\\frac{\\prod_iP(x_i|y=1)P(y=1)}{\\prod_iP(x_i|y=0)P(y=0)} \\\\ \n",
    "&= \\sum_i\\log P(x_i|y=1)P(y=1) - \\sum_i\\log P(x_i|y=0)P(y=0)\n",
    "\\end{align*} \n",
    "\n",
    "We use this for prediction. If it is larger than 0, then we favor label 1. Otherwise, label 0 is preferred. "
   ]
  },
  {
   "cell_type": "code",
   "execution_count": 5,
   "id": "a22e4056",
   "metadata": {},
   "outputs": [
    {
     "name": "stdout",
     "output_type": "stream",
     "text": [
      "Naive Bayes had an accuracy of 0.9014336917562724 on the testing set\n"
     ]
    }
   ],
   "source": [
    "naive_bayes_model = fit_naive_bayes_model(train_matrix, train_labels)\n",
    "\n",
    "naive_bayes_predictions = predict_from_naive_bayes_model(naive_bayes_model, test_matrix)\n",
    "\n",
    "np.savetxt('output/p06_naive_bayes_predictions', naive_bayes_predictions)\n",
    "\n",
    "naive_bayes_accuracy = np.mean(naive_bayes_predictions == test_labels)\n",
    "\n",
    "print('Naive Bayes had an accuracy of {} on the testing set'.format(naive_bayes_accuracy))\n"
   ]
  },
  {
   "cell_type": "markdown",
   "id": "23b443da",
   "metadata": {},
   "source": [
    "(c)"
   ]
  },
  {
   "cell_type": "code",
   "execution_count": 6,
   "id": "edc5164b",
   "metadata": {},
   "outputs": [
    {
     "name": "stdout",
     "output_type": "stream",
     "text": [
      "The top 5 indicative words for Naive Bayes are:  ['claim', 'won', 'tone', 'urgent!', 'awarded']\n"
     ]
    }
   ],
   "source": [
    "top_5_words = get_top_five_naive_bayes_words(naive_bayes_model, dictionary)\n",
    "\n",
    "print('The top 5 indicative words for Naive Bayes are: ', top_5_words)\n",
    "\n",
    "util.write_json('output/p06_top_indicative_words', top_5_words)"
   ]
  },
  {
   "cell_type": "markdown",
   "id": "20dd95a3",
   "metadata": {},
   "source": [
    "(d)"
   ]
  },
  {
   "cell_type": "code",
   "execution_count": 7,
   "id": "2381aaa7",
   "metadata": {},
   "outputs": [
    {
     "name": "stdout",
     "output_type": "stream",
     "text": [
      "The optimal SVM radius was 0.1\n",
      "The SVM model had an accuracy of 0.9695340501792115 on the testing set\n"
     ]
    }
   ],
   "source": [
    "optimal_radius = compute_best_svm_radius(train_matrix, train_labels, val_matrix, val_labels, [0.01, 0.1, 1, 10])\n",
    "\n",
    "util.write_json('output/p06_optimal_radius', optimal_radius)\n",
    "\n",
    "print('The optimal SVM radius was {}'.format(optimal_radius))\n",
    "\n",
    "svm_predictions = svm.train_and_predict_svm(train_matrix, train_labels, test_matrix, optimal_radius)\n",
    "\n",
    "svm_accuracy = np.mean(svm_predictions == test_labels)\n",
    "\n",
    "print('The SVM model had an accuracy of {} on the testing set'.format(svm_accuracy, optimal_radius))"
   ]
  }
 ],
 "metadata": {
  "kernelspec": {
   "display_name": "Python 3",
   "language": "python",
   "name": "python3"
  },
  "language_info": {
   "codemirror_mode": {
    "name": "ipython",
    "version": 3
   },
   "file_extension": ".py",
   "mimetype": "text/x-python",
   "name": "python",
   "nbconvert_exporter": "python",
   "pygments_lexer": "ipython3",
   "version": "3.8.8"
  }
 },
 "nbformat": 4,
 "nbformat_minor": 5
}
