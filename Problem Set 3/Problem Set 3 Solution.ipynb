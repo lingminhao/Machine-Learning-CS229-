{
 "cells": [
  {
   "cell_type": "markdown",
   "id": "019dfdc6",
   "metadata": {},
   "source": [
    "# Problem Set 3 (Deep Learning & Unsupervised Learning) Solution"
   ]
  },
  {
   "cell_type": "markdown",
   "id": "784736c8",
   "metadata": {},
   "source": [
    "## Ling Min Hao "
   ]
  },
  {
   "cell_type": "markdown",
   "id": "5f7474a1",
   "metadata": {},
   "source": [
    "### 1. A Simple Neural Network"
   ]
  },
  {
   "cell_type": "markdown",
   "id": "4f46723a",
   "metadata": {},
   "source": [
    "(a) "
   ]
  },
  {
   "cell_type": "markdown",
   "id": "22cde08f",
   "metadata": {},
   "source": [
    "(b)"
   ]
  },
  {
   "cell_type": "markdown",
   "id": "d9b886ab",
   "metadata": {},
   "source": [
    "(c)"
   ]
  },
  {
   "cell_type": "markdown",
   "id": "338b5e93",
   "metadata": {},
   "source": [
    "### 2. KL divergence and Maximum Likelihood "
   ]
  },
  {
   "cell_type": "markdown",
   "id": "bca91356",
   "metadata": {},
   "source": [
    "(a)"
   ]
  },
  {
   "cell_type": "markdown",
   "id": "63403472",
   "metadata": {},
   "source": [
    "(b)"
   ]
  },
  {
   "cell_type": "markdown",
   "id": "f4c650ee",
   "metadata": {},
   "source": [
    "(c)"
   ]
  },
  {
   "cell_type": "markdown",
   "id": "56ecf197",
   "metadata": {},
   "source": [
    "### 3. KL Divergence, Fisher Information, and the Natural Gradient"
   ]
  },
  {
   "cell_type": "markdown",
   "id": "25fb758f",
   "metadata": {},
   "source": [
    "(a)"
   ]
  },
  {
   "cell_type": "markdown",
   "id": "7a9b4884",
   "metadata": {},
   "source": [
    "(b)"
   ]
  },
  {
   "cell_type": "markdown",
   "id": "ce3d22bf",
   "metadata": {},
   "source": [
    "(c)"
   ]
  },
  {
   "cell_type": "markdown",
   "id": "e29303b9",
   "metadata": {},
   "source": [
    "(d)"
   ]
  },
  {
   "cell_type": "markdown",
   "id": "b0f8d093",
   "metadata": {},
   "source": [
    "(e)"
   ]
  },
  {
   "cell_type": "markdown",
   "id": "f2984d09",
   "metadata": {},
   "source": [
    "(f)"
   ]
  },
  {
   "cell_type": "markdown",
   "id": "cbccf98f",
   "metadata": {},
   "source": [
    "### 4. Semi-supervised EM"
   ]
  },
  {
   "cell_type": "markdown",
   "id": "df23e3d8",
   "metadata": {},
   "source": [
    "(a)"
   ]
  },
  {
   "cell_type": "markdown",
   "id": "575d7f4e",
   "metadata": {},
   "source": [
    "(b)"
   ]
  },
  {
   "cell_type": "markdown",
   "id": "b6d64c3c",
   "metadata": {},
   "source": [
    "(c)"
   ]
  },
  {
   "cell_type": "markdown",
   "id": "82f8816e",
   "metadata": {},
   "source": [
    "(d)"
   ]
  },
  {
   "cell_type": "markdown",
   "id": "96dcadb7",
   "metadata": {},
   "source": [
    "(e)"
   ]
  },
  {
   "cell_type": "markdown",
   "id": "238f4e8f",
   "metadata": {},
   "source": [
    "(f)"
   ]
  },
  {
   "cell_type": "markdown",
   "id": "92a9eea5",
   "metadata": {},
   "source": [
    "### 5. K-means for compression"
   ]
  },
  {
   "cell_type": "markdown",
   "id": "ead5bc2c",
   "metadata": {},
   "source": [
    "(a)"
   ]
  },
  {
   "cell_type": "markdown",
   "id": "8861a4c1",
   "metadata": {},
   "source": [
    "(b)"
   ]
  }
 ],
 "metadata": {
  "kernelspec": {
   "display_name": "Python 3",
   "language": "python",
   "name": "python3"
  },
  "language_info": {
   "codemirror_mode": {
    "name": "ipython",
    "version": 3
   },
   "file_extension": ".py",
   "mimetype": "text/x-python",
   "name": "python",
   "nbconvert_exporter": "python",
   "pygments_lexer": "ipython3",
   "version": "3.8.8"
  }
 },
 "nbformat": 4,
 "nbformat_minor": 5
}
