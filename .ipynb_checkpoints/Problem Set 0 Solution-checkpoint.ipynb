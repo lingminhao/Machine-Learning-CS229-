{
 "cells": [
  {
   "cell_type": "markdown",
   "id": "ef58bf46",
   "metadata": {},
   "source": [
    "# Problem Set 0 (Linear Algebra and Multivariable Calculus) Solution\n",
    "\n",
    "## Ling Min Hao "
   ]
  },
  {
   "cell_type": "markdown",
   "id": "c0e8ff5c",
   "metadata": {},
   "source": [
    "Note: The question for this problem set is located at "
   ]
  },
  {
   "cell_type": "markdown",
   "id": "85086ac2",
   "metadata": {},
   "source": [
    "### 1. Gradients and Hessians"
   ]
  },
  {
   "cell_type": "markdown",
   "id": "a3f90de2",
   "metadata": {},
   "source": [
    "(a) \n",
    "\\begin{align*}\n",
    "\\nabla_x f(x) \n",
    "& = \\nabla_x x^TAx + b^Tx \\\\ \n",
    "& = \\frac{1}{2}\\nabla_x x^TAx + \\nabla_x b^Tx \\\\\n",
    "& = \\frac{1}{2}\\nabla_x tr(x^TAx) + b\\\\ \n",
    "& = \\frac{1}{2}(\\nabla_{x^T} tr(x^TAx))^T + b \\\\ \n",
    "& = \\frac{1}{2}(x^TA + x^TA^T)^T +b \\\\ \n",
    "& = \\frac{1}{2}(A^Tx + Ax) + b \\\\\n",
    "& = \\frac{1}{2}(2Ax) + b \\\\\n",
    "& = Ax + b\n",
    "\\end{align*}"
   ]
  },
  {
   "cell_type": "markdown",
   "id": "4b6fe7e1",
   "metadata": {},
   "source": [
    "(b) \n",
    "\\begin{align*} \n",
    "\\nabla_x f(x) \n",
    "&= \\nabla_x g(h(x)) \\\\ \n",
    "&= \\begin{bmatrix}\n",
    "\\frac{\\partial}{\\partial x_1}(gh)(x)\\\\\n",
    "\\vdots \\\\\n",
    "\\frac{\\partial}{\\partial x_n}(gh)(x)\n",
    "\\end{bmatrix} \\\\ \n",
    "&= \\begin{bmatrix}\n",
    "g'(h(x))\\frac{\\partial}{\\partial x_1}h(x)\\\\\n",
    "\\vdots \\\\\n",
    "g'(h(x))\\frac{\\partial}{\\partial x_n}h(x)\n",
    "\\end{bmatrix} \\\\ \n",
    "&= g'(h(x))\\nabla_x h(x)\n",
    "\\end{align*}"
   ]
  },
  {
   "cell_type": "markdown",
   "id": "381f5d50",
   "metadata": {},
   "source": [
    "(c) From 1(a), we have $\\nabla_x f(x) = Ax + b$. Then \n",
    "\n",
    "\\begin{align*}\n",
    "\\nabla_x^2 f(x) \n",
    "&= \\nabla_x(Ax+b)^T \\\\\n",
    "&= \\begin{bmatrix} \n",
    "\\nabla_x(A_{11}x_1 + \\cdots + A_{1n}x_n + b_1) & \\cdots & \\nabla_x(A_{n1}x_1 + \\cdots + A_{nn}x_n + b_1) \\\\ \n",
    "\\end{bmatrix}\\\\\n",
    "&= A^T \\\\ \n",
    "&= A\n",
    "\\end{align*}"
   ]
  },
  {
   "cell_type": "markdown",
   "id": "5686f3ef",
   "metadata": {},
   "source": [
    "(d) \n",
    "\\begin{align*}\n",
    "\\nabla_x f(x)\n",
    "&= \\nabla_x g(a^Tx) \\\\ \n",
    "&= g'(a^Tx)\\nabla_x a^Tx \\\\ \n",
    "&= g'(a^Tx).a \\\\ \n",
    "&= \\begin{bmatrix}\n",
    "g'(a^Tx)a_1 \\\\\n",
    "\\vdots \\\\\n",
    "g'(a^Tx)a_n\n",
    "\\end{bmatrix}\n",
    "\\end{align*} \n",
    "\n",
    "\\begin{align*}\n",
    "\\nabla_x^2f(x)\n",
    "&= \\nabla_x\n",
    "\\begin{bmatrix} \n",
    "g'(a^Tx)a_1 & \\cdots & g'(a^Tx)a_n\n",
    "\\end{bmatrix} \\\\\n",
    "&= \\begin{bmatrix}\n",
    "g''(a^Tx)a_1^2 & g''(a^Tx)a_1a_2 & \\cdots & g''(a^Tx)a_1a_n\\\\\n",
    "g''(a^Tx)a_2a_1 & g''(a^Tx)a_2^2 & \\cdots & g''(a^Tx)a_2a_n\\\\\n",
    "\\vdots \\\\\n",
    "g''(a^Tx)a_na_1 & g''(a^Tx)a_na_2 & \\cdots & g''(a^Tx)a_n^2\\\\\n",
    "\\end{bmatrix} \\\\ \n",
    "&= g''(a^Tx)aa^T\n",
    "\\end{align*} "
   ]
  },
  {
   "cell_type": "markdown",
   "id": "6395ed4f",
   "metadata": {},
   "source": [
    "### 2. Positive definite matrices "
   ]
  },
  {
   "cell_type": "markdown",
   "id": "bca320af",
   "metadata": {},
   "source": [
    "(a) $$A^T = (zz^T)^T = zz^T = A$$\n",
    "\n",
    "$$x^TAx = x^Tzz^Tx = (z^Tx)^T(z^Tx) = \\geq 0$$"
   ]
  },
  {
   "cell_type": "markdown",
   "id": "9a5265e2",
   "metadata": {},
   "source": [
    "(b) \n",
    "\\begin{align*}\n",
    "N(A) \n",
    "&= \\{x\\in\\mathbb{R}^n|(zz^T)(x) = 0\\} \\\\ \n",
    "&= \\{x\\in\\mathbb{R}^n|z^Tx = 0\\} \\\\ \n",
    "&= \\{x\\in\\mathbb{R}^n|x\\perp z\\} \n",
    "\\end{align*}\n",
    "\n",
    "\\begin{equation*}\n",
    "0<R(z^Tz) \\leq min(R(z^T), R(z)) = 1\\\\\n",
    "R(z^Tz) = 1\n",
    "\\end{equation*}"
   ]
  },
  {
   "cell_type": "markdown",
   "id": "6f6b6283",
   "metadata": {},
   "source": [
    "(c)\n",
    "\\begin{align*}\n",
    "(BAB^T)^T = BA^TB^T = BAB^T\n",
    "\\end{align*}\n",
    "\n",
    "\\begin{align*}\n",
    "x^T(BAB^T)x = (x^TB)A(x^TB)^T = (B^Tx)^TA(B^Tx)\\geq 0 \n",
    "\\end{align*}\n",
    "\n",
    "since $A$ is positive semidefinite."
   ]
  },
  {
   "cell_type": "markdown",
   "id": "af0e357f",
   "metadata": {},
   "source": [
    "### 3. Eigenvectors, eigenvalues, and the spectral theorem"
   ]
  },
  {
   "cell_type": "markdown",
   "id": "f4971e05",
   "metadata": {},
   "source": [
    "(a) \n",
    "\\begin{align*}\n",
    "At^{(i)} \n",
    "&= T\\Lambda T^{-1}(t^{(i)}) \\\\ \n",
    "&= T\\Lambda(e_i) \\\\ \n",
    "&= T(\\lambda_ie_i) \\\\\n",
    "&= \\lambda_i T(e_i) \\\\ \n",
    "&= \\lambda_i t^{(i)} \n",
    "\\end{align*}\n",
    "\n",
    "for each $i$. "
   ]
  },
  {
   "cell_type": "markdown",
   "id": "bef35938",
   "metadata": {},
   "source": [
    "(b) \n",
    "\\begin{align*}\n",
    "Au^{(i)} \n",
    "&= U\\Lambda U^T(u^{(i)}) \\\\\n",
    "&= U\\Lambda U^{-1}(u^{(i)}) \\\\ \n",
    "&= \\lambda_i u^{(i)} \\\\\n",
    "\\end{align*}\n",
    "\n",
    "for each $i$. "
   ]
  },
  {
   "cell_type": "markdown",
   "id": "d532610d",
   "metadata": {},
   "source": [
    "(c) Since $A = U\\Lambda U^T$ is a PSD, we have\n",
    "\\begin{align*}\n",
    "(u^{(i)})^T(U\\Lambda U^T)(u^{(i)})&\\geq 0 \\\\ \n",
    "(u^{(i)})^T\\lambda_i u^{(i)} &\\geq 0 \\\\ \n",
    "\\lambda_i u^{(i)^T}u^{(i)} &\\geq 0 \\\\\n",
    "\\lambda_i \\geq 0 \n",
    "\\end{align*}\n",
    "for each $i$. "
   ]
  }
 ],
 "metadata": {
  "kernelspec": {
   "display_name": "Python 3",
   "language": "python",
   "name": "python3"
  },
  "language_info": {
   "codemirror_mode": {
    "name": "ipython",
    "version": 3
   },
   "file_extension": ".py",
   "mimetype": "text/x-python",
   "name": "python",
   "nbconvert_exporter": "python",
   "pygments_lexer": "ipython3",
   "version": "3.8.8"
  }
 },
 "nbformat": 4,
 "nbformat_minor": 5
}
